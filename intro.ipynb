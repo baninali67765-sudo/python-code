{
 "cells": [
  {
   "cell_type": "markdown",
   "id": "ed70d2ad",
   "metadata": {},
   "source": [
    "Intro \n",
    "\n",
    "Det  här är hut vi kommer igång\n",
    "\n"
   ]
  },
  {
   "cell_type": "code",
   "execution_count": null,
   "id": "074ac214",
   "metadata": {},
   "outputs": [],
   "source": [
    "print (\"Hello world\")"
   ]
  },
  {
   "cell_type": "code",
   "execution_count": null,
   "id": "803cfae4",
   "metadata": {},
   "outputs": [],
   "source": [
    "x = 5\n",
    "y = 10\n",
    "\n",
    "z = x + y \n",
    "print (z)\n"
   ]
  },
  {
   "cell_type": "code",
   "execution_count": null,
   "id": "1aebf27c",
   "metadata": {},
   "outputs": [],
   "source": [
    "person = {\"name\": \"Hans\", \"age\": 40 } #dict type variable name\n",
    "numbers = [1,2,3,4] # list\n",
    "print (person)\n",
    "print(numbers)\n",
    "print (type(person))"
   ]
  },
  {
   "cell_type": "code",
   "execution_count": null,
   "id": "f58137d6",
   "metadata": {},
   "outputs": [],
   "source": [
    "count = 1\n",
    "print(count)\n",
    "count = count + 1\n",
    "print(count)\n",
    "name = 123 \n",
    "print(name)"
   ]
  },
  {
   "cell_type": "code",
   "execution_count": null,
   "id": "e0b3d8c5",
   "metadata": {},
   "outputs": [],
   "source": [
    "import math\n",
    "\n",
    "print(math.sqrt(16))\n",
    "print(math.pi)\n",
    "print(math.floor(3.9))\n",
    "print(math.ceil(3.1))\n",
    "print()\n",
    "math.sqrt(16)"
   ]
  },
  {
   "cell_type": "code",
   "execution_count": null,
   "id": "c292b876",
   "metadata": {},
   "outputs": [],
   "source": [
    "number = 10\n",
    "number = number + 1\n",
    "number += 1\n",
    "number -= 1\n",
    "number //= 2\n",
    "number *= 3 \n",
    "\n",
    "print(number)\n"
   ]
  },
  {
   "cell_type": "code",
   "execution_count": null,
   "id": "c30177f3",
   "metadata": {},
   "outputs": [],
   "source": [
    "text = \"hello world\"\n",
    "print(text.upper())\n",
    "print(text.replace(\"hello\", \"hej\"))\n",
    " "
   ]
  },
  {
   "cell_type": "code",
   "execution_count": null,
   "id": "1434f659",
   "metadata": {},
   "outputs": [],
   "source": [
    "response = input()\n",
    "print(\"Du skrev\", response)"
   ]
  },
  {
   "cell_type": "markdown",
   "id": "2188b352",
   "metadata": {},
   "source": [
    "conditions\n"
   ]
  },
  {
   "cell_type": "code",
   "execution_count": 1,
   "id": "3e069be5",
   "metadata": {},
   "outputs": [
    {
     "name": "stdout",
     "output_type": "stream",
     "text": [
      "du ar jattegamal\n"
     ]
    }
   ],
   "source": [
    "age = int(input())\n",
    "if age < 13:\n",
    "    print('du ar ung')\n",
    "elif age < 18:\n",
    "    print('du ar tonarig')\n",
    "else:\n",
    "    print('du ar jattegamal')\n",
    "\n",
    "    \n"
   ]
  },
  {
   "cell_type": "code",
   "execution_count": null,
   "id": "f11d89cd",
   "metadata": {},
   "outputs": [
    {
     "name": "stdout",
     "output_type": "stream",
     "text": [
      "medelvarde: 115.3157894736842\n"
     ]
    }
   ],
   "source": [
    "values = []\n",
    "with open(\"files/number.txt\", \"r\", encoding= \"utf-8\") as f:\n",
    "    for line in f:\n",
    "        line = line.strip() # /n line breathninger\n",
    "        if line:\n",
    "            values.append(float(line))\n",
    "if values:\n",
    "    avg = sum (values) / len (values)\n",
    "    print(\"medelvarde:\", avg)\n",
    "else:\n",
    "    print (\"inga tal i filen\")            "
   ]
  },
  {
   "cell_type": "code",
   "execution_count": null,
   "id": "5cc390df",
   "metadata": {},
   "outputs": [],
   "source": [
    "with open(\"files/example.txt\", \"w\", encoding=\"utf-8\") as f:\n",
    "    f.write(\"Hello world \\n\" )\n"
   ]
  },
  {
   "cell_type": "code",
   "execution_count": 8,
   "id": "141f2f39",
   "metadata": {},
   "outputs": [],
   "source": [
    "with open(\"files/example.txt\", \"a\", encoding=\"utf-8\") as f:\n",
    "    f.write(\"Hello world \\n\")"
   ]
  },
  {
   "cell_type": "code",
   "execution_count": 12,
   "id": "ccad42d4",
   "metadata": {},
   "outputs": [],
   "source": [
    "while True:\n",
    "    note = input(\"skriv notes(eller 'q' f;r att avsluta):\")\n",
    "    if note.lower() == 'q':\n",
    "        break\n",
    "    with open(\"files/notes.txt\", \"a\") as f:\n",
    "        f.write(note + \"\\n\")\n",
    "\n"
   ]
  },
  {
   "cell_type": "markdown",
   "id": "23a4c933",
   "metadata": {},
   "source": [
    "CSV = comma separated values"
   ]
  },
  {
   "cell_type": "code",
   "execution_count": 25,
   "id": "8b7fe5ba",
   "metadata": {},
   "outputs": [],
   "source": [
    "import csv\n",
    "\n",
    "with open(\"files/cars.csv\", \"w\", newline=\"\") as file:\n",
    "    writer = csv.writer(file)\n",
    "    writer.writerow([\"rag\", \"color\"])\n",
    "    writer.writerow([\"ABt511\", \"red\"])\n",
    "    writer.writerow([\"OZU468\", \"silver\"])\n",
    "    "
   ]
  },
  {
   "cell_type": "code",
   "execution_count": 26,
   "id": "35fed57d",
   "metadata": {},
   "outputs": [
    {
     "name": "stdout",
     "output_type": "stream",
     "text": [
      "['rag', 'color']\n",
      "rag\n",
      "['ABt511', 'red']\n",
      "ABt511\n",
      "['OZU468', 'silver']\n",
      "OZU468\n"
     ]
    }
   ],
   "source": [
    "with open(\"files/cars.csv\", \"r\") as file:\n",
    "    reader = csv.reader(file)\n",
    "    for row in reader:\n",
    "        print(row)\n",
    "        print(row[0])"
   ]
  },
  {
   "cell_type": "code",
   "execution_count": 30,
   "id": "bdc3a846",
   "metadata": {},
   "outputs": [],
   "source": [
    "import json\n",
    "data = {\n",
    "     \"name\": \"Banin\",\n",
    "     \"age\" : 28,\n",
    "     \"city\": \"ABD\"\n",
    "}\n",
    "\n",
    "with open (\"files/person.json\", \"w\", encoding=\"utf-8\") as file:\n",
    "    json.dump(data, file)"
   ]
  },
  {
   "cell_type": "code",
   "execution_count": 33,
   "id": "73f1ce96",
   "metadata": {},
   "outputs": [
    {
     "name": "stdout",
     "output_type": "stream",
     "text": [
      "{'name': 'Banin', 'age': 28, 'city': 'ABD'}\n",
      "Banin\n"
     ]
    }
   ],
   "source": [
    "with open (\"files/person.json\", \"r\", encoding=\"utf-8\") as file:\n",
    "    person = json.load(file)\n",
    "\n",
    "print(person)\n",
    "print(person [\"name\"])\n"
   ]
  }
 ],
 "metadata": {
  "kernelspec": {
   "display_name": ".venv",
   "language": "python",
   "name": "python3"
  },
  "language_info": {
   "codemirror_mode": {
    "name": "ipython",
    "version": 3
   },
   "file_extension": ".py",
   "mimetype": "text/x-python",
   "name": "python",
   "nbconvert_exporter": "python",
   "pygments_lexer": "ipython3",
   "version": "3.12.1"
  }
 },
 "nbformat": 4,
 "nbformat_minor": 5
}
